{
 "cells": [
  {
   "cell_type": "code",
   "execution_count": 1,
   "metadata": {
    "colab": {
     "base_uri": "https://localhost:8080/"
    },
    "id": "RC-_klVdSSWn",
    "outputId": "3c383470-2921-4597-87d1-4b7bc5770ab6"
   },
   "outputs": [
    {
     "name": "stdout",
     "output_type": "stream",
     "text": [
      "Collecting pyspark\n",
      "  Downloading pyspark-3.2.1.tar.gz (281.4 MB)\n",
      "\u001b[K     |████████████████████████████████| 281.4 MB 33 kB/s \n",
      "\u001b[?25hCollecting py4j==0.10.9.3\n",
      "  Downloading py4j-0.10.9.3-py2.py3-none-any.whl (198 kB)\n",
      "\u001b[K     |████████████████████████████████| 198 kB 39.1 MB/s \n",
      "\u001b[?25hBuilding wheels for collected packages: pyspark\n",
      "  Building wheel for pyspark (setup.py) ... \u001b[?25l\u001b[?25hdone\n",
      "  Created wheel for pyspark: filename=pyspark-3.2.1-py2.py3-none-any.whl size=281853642 sha256=7f2efa31f9484099b38aaa4c1492a51a81fd42ecfaa71161b9e8d895dc11cc43\n",
      "  Stored in directory: /root/.cache/pip/wheels/9f/f5/07/7cd8017084dce4e93e84e92efd1e1d5334db05f2e83bcef74f\n",
      "Successfully built pyspark\n",
      "Installing collected packages: py4j, pyspark\n",
      "Successfully installed py4j-0.10.9.3 pyspark-3.2.1\n",
      "The following package was automatically installed and is no longer required:\n",
      "  libnvidia-common-460\n",
      "Use 'apt autoremove' to remove it.\n",
      "The following additional packages will be installed:\n",
      "  openjdk-8-jre-headless\n",
      "Suggested packages:\n",
      "  openjdk-8-demo openjdk-8-source libnss-mdns fonts-dejavu-extra\n",
      "  fonts-ipafont-gothic fonts-ipafont-mincho fonts-wqy-microhei\n",
      "  fonts-wqy-zenhei fonts-indic\n",
      "The following NEW packages will be installed:\n",
      "  openjdk-8-jdk-headless openjdk-8-jre-headless\n",
      "0 upgraded, 2 newly installed, 0 to remove and 42 not upgraded.\n",
      "Need to get 36.5 MB of archives.\n",
      "After this operation, 143 MB of additional disk space will be used.\n",
      "Selecting previously unselected package openjdk-8-jre-headless:amd64.\n",
      "(Reading database ... 155629 files and directories currently installed.)\n",
      "Preparing to unpack .../openjdk-8-jre-headless_8u312-b07-0ubuntu1~18.04_amd64.deb ...\n",
      "Unpacking openjdk-8-jre-headless:amd64 (8u312-b07-0ubuntu1~18.04) ...\n",
      "Selecting previously unselected package openjdk-8-jdk-headless:amd64.\n",
      "Preparing to unpack .../openjdk-8-jdk-headless_8u312-b07-0ubuntu1~18.04_amd64.deb ...\n",
      "Unpacking openjdk-8-jdk-headless:amd64 (8u312-b07-0ubuntu1~18.04) ...\n",
      "Setting up openjdk-8-jre-headless:amd64 (8u312-b07-0ubuntu1~18.04) ...\n",
      "update-alternatives: using /usr/lib/jvm/java-8-openjdk-amd64/jre/bin/orbd to provide /usr/bin/orbd (orbd) in auto mode\n",
      "update-alternatives: using /usr/lib/jvm/java-8-openjdk-amd64/jre/bin/servertool to provide /usr/bin/servertool (servertool) in auto mode\n",
      "update-alternatives: using /usr/lib/jvm/java-8-openjdk-amd64/jre/bin/tnameserv to provide /usr/bin/tnameserv (tnameserv) in auto mode\n",
      "Setting up openjdk-8-jdk-headless:amd64 (8u312-b07-0ubuntu1~18.04) ...\n",
      "update-alternatives: using /usr/lib/jvm/java-8-openjdk-amd64/bin/idlj to provide /usr/bin/idlj (idlj) in auto mode\n",
      "update-alternatives: using /usr/lib/jvm/java-8-openjdk-amd64/bin/wsimport to provide /usr/bin/wsimport (wsimport) in auto mode\n",
      "update-alternatives: using /usr/lib/jvm/java-8-openjdk-amd64/bin/jsadebugd to provide /usr/bin/jsadebugd (jsadebugd) in auto mode\n",
      "update-alternatives: using /usr/lib/jvm/java-8-openjdk-amd64/bin/native2ascii to provide /usr/bin/native2ascii (native2ascii) in auto mode\n",
      "update-alternatives: using /usr/lib/jvm/java-8-openjdk-amd64/bin/javah to provide /usr/bin/javah (javah) in auto mode\n",
      "update-alternatives: using /usr/lib/jvm/java-8-openjdk-amd64/bin/hsdb to provide /usr/bin/hsdb (hsdb) in auto mode\n",
      "update-alternatives: using /usr/lib/jvm/java-8-openjdk-amd64/bin/clhsdb to provide /usr/bin/clhsdb (clhsdb) in auto mode\n",
      "update-alternatives: using /usr/lib/jvm/java-8-openjdk-amd64/bin/xjc to provide /usr/bin/xjc (xjc) in auto mode\n",
      "update-alternatives: using /usr/lib/jvm/java-8-openjdk-amd64/bin/schemagen to provide /usr/bin/schemagen (schemagen) in auto mode\n",
      "update-alternatives: using /usr/lib/jvm/java-8-openjdk-amd64/bin/extcheck to provide /usr/bin/extcheck (extcheck) in auto mode\n",
      "update-alternatives: using /usr/lib/jvm/java-8-openjdk-amd64/bin/jhat to provide /usr/bin/jhat (jhat) in auto mode\n",
      "update-alternatives: using /usr/lib/jvm/java-8-openjdk-amd64/bin/wsgen to provide /usr/bin/wsgen (wsgen) in auto mode\n"
     ]
    }
   ],
   "source": [
    "!pip install pyspark\n",
    "!pip install -U -q PyDrive\n",
    "!apt install openjdk-8-jdk-headless -qq\n",
    "import os\n",
    "os.environ[\"JAVA_HOME\"] = \"/usr/lib/jvm/java-8-openjdk-amd64\""
   ]
  },
  {
   "cell_type": "code",
   "execution_count": 2,
   "metadata": {
    "id": "Dg0k8_EYSvhL"
   },
   "outputs": [],
   "source": [
    "import pandas as pd\n",
    "import numpy as np\n",
    "import matplotlib.pyplot as plt\n",
    "%matplotlib inline\n",
    "\n",
    "import pyspark\n",
    "from pyspark.sql import *\n",
    "from pyspark.sql.types import *\n",
    "from pyspark.sql.functions import *\n",
    "from pyspark import SparkContext, SparkConf"
   ]
  },
  {
   "cell_type": "code",
   "execution_count": 3,
   "metadata": {
    "id": "X3iUVutBTHNm"
   },
   "outputs": [],
   "source": [
    "# create the session\n",
    "conf = SparkConf().set(\"spark.ui.port\", \"4050\")\n",
    "\n",
    "# create the context\n",
    "sc = pyspark.SparkContext(conf=conf)\n",
    "spark = SparkSession.builder.getOrCreate()"
   ]
  },
  {
   "cell_type": "code",
   "execution_count": 4,
   "metadata": {
    "colab": {
     "base_uri": "https://localhost:8080/",
     "height": 250,
     "resources": {
      "http://localhost:8080/nbextensions/google.colab/files.js": {
       "data": "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",
       "headers": [
        [
         "content-type",
         "application/javascript"
        ]
       ],
       "ok": true,
       "status": 200,
       "status_text": ""
      }
     }
    },
    "id": "IGsmN9DOTKfJ",
    "outputId": "0f9906ac-806c-478c-d4b5-13d4b1abc5e9"
   },
   "outputs": [
    {
     "data": {
      "text/html": [
       "\n",
       "     <input type=\"file\" id=\"files-42dfea7c-67a8-46a5-9d48-16d6fbb0821e\" name=\"files[]\" multiple disabled\n",
       "        style=\"border:none\" />\n",
       "     <output id=\"result-42dfea7c-67a8-46a5-9d48-16d6fbb0821e\">\n",
       "      Upload widget is only available when the cell has been executed in the\n",
       "      current browser session. Please rerun this cell to enable.\n",
       "      </output>\n",
       "      <script src=\"/nbextensions/google.colab/files.js\"></script> "
      ],
      "text/plain": [
       "<IPython.core.display.HTML object>"
      ]
     },
     "metadata": {},
     "output_type": "display_data"
    },
    {
     "name": "stdout",
     "output_type": "stream",
     "text": [
      "Saving us_cases_over_time.csv to us_cases_over_time.csv\n",
      "Saving us-census-data.csv to us-census-data.csv\n",
      "Saving usstatenamescodes.csv to usstatenamescodes.csv\n",
      "Saving vaccines_janssen.csv to vaccines_janssen.csv\n",
      "Saving vaccines_moderna.csv to vaccines_moderna.csv\n",
      "Saving vaccines_pfizer.csv to vaccines_pfizer.csv\n"
     ]
    }
   ],
   "source": [
    "from google.colab import files\n",
    " \n",
    " \n",
    "uploaded = files.upload()"
   ]
  },
  {
   "cell_type": "code",
   "execution_count": 5,
   "metadata": {
    "id": "VfzizYbyTMio"
   },
   "outputs": [],
   "source": [
    "import pandas as pd\n",
    "import io\n",
    " \n",
    "us_cases_over_time = spark.read.csv('us_cases_over_time.csv', header=True)"
   ]
  },
  {
   "cell_type": "code",
   "execution_count": 6,
   "metadata": {
    "colab": {
     "base_uri": "https://localhost:8080/"
    },
    "id": "3H33tBhE3fGx",
    "outputId": "39670514-64d7-41cd-a16a-9fd0dc2b881e"
   },
   "outputs": [
    {
     "data": {
      "text/plain": [
       "DataFrame[key: string, value: string]"
      ]
     },
     "execution_count": 6,
     "metadata": {},
     "output_type": "execute_result"
    }
   ],
   "source": [
    "spark.sql(\"set spark.sql.legacy.timeParserPolicy=LEGACY\")"
   ]
  },
  {
   "cell_type": "code",
   "execution_count": 7,
   "metadata": {
    "colab": {
     "base_uri": "https://localhost:8080/"
    },
    "id": "UoBonDYxUa1D",
    "outputId": "438e1ffa-39b5-43a7-f870-39d1f88764bb"
   },
   "outputs": [
    {
     "name": "stdout",
     "output_type": "stream",
     "text": [
      "root\n",
      " |-- submission_date: string (nullable = true)\n",
      " |-- state: string (nullable = true)\n",
      " |-- tot_cases: string (nullable = true)\n",
      " |-- conf_cases: string (nullable = true)\n",
      " |-- prob_cases: string (nullable = true)\n",
      " |-- new_case: string (nullable = true)\n",
      " |-- pnew_case: string (nullable = true)\n",
      " |-- tot_death: string (nullable = true)\n",
      " |-- conf_death: string (nullable = true)\n",
      " |-- prob_death: string (nullable = true)\n",
      " |-- new_death: string (nullable = true)\n",
      " |-- pnew_death: string (nullable = true)\n",
      " |-- created_at: string (nullable = true)\n",
      " |-- consent_cases: string (nullable = true)\n",
      " |-- consent_deaths: string (nullable = true)\n",
      "\n"
     ]
    }
   ],
   "source": [
    "us_cases_over_time.printSchema()"
   ]
  },
  {
   "cell_type": "code",
   "execution_count": 8,
   "metadata": {
    "colab": {
     "base_uri": "https://localhost:8080/"
    },
    "id": "ZLcT1SL-3NjM",
    "outputId": "d051fdfb-f252-4ffb-bdd6-3a4c5f5c525f"
   },
   "outputs": [
    {
     "name": "stdout",
     "output_type": "stream",
     "text": [
      "+---------------+-----+---------+----------+----------+--------+---------+---------+----------+----------+---------+----------+--------------------+-------------+--------------+\n",
      "|submission_date|state|tot_cases|conf_cases|prob_cases|new_case|pnew_case|tot_death|conf_death|prob_death|new_death|pnew_death|          created_at|consent_cases|consent_deaths|\n",
      "+---------------+-----+---------+----------+----------+--------+---------+---------+----------+----------+---------+----------+--------------------+-------------+--------------+\n",
      "|     01/25/2020|   OR|        0|      null|      null|       0|     null|        0|      null|      null|        0|      null|03/26/2020 04:22:...|        Agree|         Agree|\n",
      "|     07/23/2020|   KY|    25147|     23882|      1265|     607|       61|      684|       680|         4|        7|         0|07/24/2020 02:18:...|        Agree|         Agree|\n",
      "|     02/01/2021|   DC|    37008|      null|      null|     136|        0|      916|      null|      null|        3|         0|02/02/2021 02:51:...|         null|          null|\n",
      "|     04/11/2021|   NJ|   953490|    837052|    116438|    3387|      517|    24870|     22297|      2573|       11|         0|04/12/2021 01:39:...|        Agree|         Agree|\n",
      "|     01/10/2021|   AZ|   618546|    585091|     33455|   11201|      757|    10141|      9102|      1039|      105|         4|01/11/2021 03:01:...|        Agree|         Agree|\n",
      "|     01/31/2021|   DC|    36872|      null|      null|     210|        0|      913|      null|      null|        4|         0|02/01/2021 02:50:...|         null|          null|\n",
      "|     07/30/2020|   ME|     3910|      3497|       413|      22|        2|      123|       122|         1|        2|         0|07/31/2020 02:35:...|        Agree|         Agree|\n",
      "|     06/15/2020|   WI|    25480|     22932|      2548|     185|       11|      700|       694|         6|        2|         0|06/16/2020 02:10:...|        Agree|         Agree|\n",
      "|     05/03/2020|   NH|     2518|      null|      null|      89|        0|       86|      null|      null|        2|         0|05/04/2020 10:49:...|    Not agree|     Not agree|\n",
      "|     07/31/2020|   ND|     6602|      6602|         0|     133|        0|      103|      null|      null|        0|         0|08/01/2020 02:38:...|        Agree|     Not agree|\n",
      "|     08/11/2020|   GU|      449|      null|      null|      15|        0|        5|      null|      null|        0|         0|08/12/2020 01:50:...|    Not agree|     Not agree|\n",
      "|     04/30/2020|   KY|     4708|      4708|         0|     169|        0|      240|       240|         0|        5|         0|05/01/2020 09:00:...|        Agree|         Agree|\n",
      "|     04/26/2021|   RI|   147099|      null|      null|     119|        0|     2666|      null|      null|        3|         0|04/27/2021 12:00:...|    Not agree|           N/A|\n",
      "|     02/02/2020|   GU|        0|      null|      null|       0|     null|        0|      null|      null|        0|      null|03/26/2020 04:22:...|    Not agree|     Not agree|\n",
      "|     08/10/2020|   OR|    21488|     21488|         0|     216|        0|      357|       357|         0|        1|         0|08/11/2020 02:16:...|        Agree|         Agree|\n",
      "|     11/21/2020|   SC|   207245|    193369|     13876|    1881|      268|     4363|      null|      null|       22|         1|11/21/2020 12:00:...|        Agree|     Not agree|\n",
      "|     04/07/2021|   KY|   430860|    327377|    103483|    1019|      470|     6198|      5607|       591|       10|         1|04/08/2021 01:46:...|        Agree|         Agree|\n",
      "|     04/24/2020|   NC|     8052|      8052|         0|     444|        0|      269|       269|         0|       16|         0|02/19/2021 01:38:...|        Agree|         Agree|\n",
      "|     04/18/2020|   SC|     4356|      4356|         0|     163|        0|      161|      null|      null|       11|         0|04/18/2020 12:00:...|        Agree|     Not agree|\n",
      "|     01/30/2020|   MI|        0|      null|      null|       0|     null|        0|      null|      null|        0|      null|03/26/2020 04:22:...|        Agree|         Agree|\n",
      "+---------------+-----+---------+----------+----------+--------+---------+---------+----------+----------+---------+----------+--------------------+-------------+--------------+\n",
      "only showing top 20 rows\n",
      "\n"
     ]
    }
   ],
   "source": [
    "us_cases_over_time.show()"
   ]
  },
  {
   "cell_type": "code",
   "execution_count": 9,
   "metadata": {
    "id": "GyS2UGfuUjIR"
   },
   "outputs": [],
   "source": [
    "import pyspark.sql.functions as F"
   ]
  },
  {
   "cell_type": "markdown",
   "metadata": {
    "id": "Wv1MVmyTorlM"
   },
   "source": [
    "**Formatting the dates to make use of the timestamp/date calculations.**"
   ]
  },
  {
   "cell_type": "code",
   "execution_count": 10,
   "metadata": {
    "id": "AHT03R2-VC-x"
   },
   "outputs": [],
   "source": [
    "us_cases_over_time = us_cases_over_time.withColumn('submission_date', \n",
    "                   F.to_date(F.unix_timestamp(F.col('submission_date'), 'dd/MM/yyyy').cast(\"timestamp\")))"
   ]
  },
  {
   "cell_type": "code",
   "execution_count": 11,
   "metadata": {
    "id": "Sz1UMux2Vuk_"
   },
   "outputs": [],
   "source": [
    "us_cases_over_time = us_cases_over_time.withColumn('created_at', \n",
    "                   F.to_date(F.unix_timestamp(F.col('created_at'), 'dd/MM/yyyy').cast(\"timestamp\")))"
   ]
  },
  {
   "cell_type": "markdown",
   "metadata": {
    "id": "uQyBfUj1oHpc"
   },
   "source": [
    "**Removing the records where the sum of confirmed cases and probable cases is not equal to the total cases.**"
   ]
  },
  {
   "cell_type": "code",
   "execution_count": 12,
   "metadata": {
    "id": "1AiX2c1RXKRD"
   },
   "outputs": [],
   "source": [
    "from pyspark.sql.functions import col\n",
    "us_cases_over_time = us_cases_over_time.filter((col(\"conf_cases\") + col(\"prob_cases\")) == col(\"tot_cases\"))"
   ]
  },
  {
   "cell_type": "markdown",
   "metadata": {
    "id": "n74dhsgvoeZJ"
   },
   "source": [
    "**Similarly records when the sum of confirmed deaths and probable deaths is not equal to the total deaths the records are rejected.**"
   ]
  },
  {
   "cell_type": "code",
   "execution_count": 13,
   "metadata": {
    "id": "8c540F4Pfu0g"
   },
   "outputs": [],
   "source": [
    "us_cases_over_time = us_cases_over_time.filter((col(\"conf_death\") + col(\"prob_death\")) == col(\"tot_death\"))"
   ]
  },
  {
   "cell_type": "code",
   "execution_count": 14,
   "metadata": {
    "colab": {
     "base_uri": "https://localhost:8080/"
    },
    "id": "KU6xWqkThsB5",
    "outputId": "4bb59881-643c-4527-f27c-02cb6979a30f"
   },
   "outputs": [
    {
     "data": {
      "text/plain": [
       "11051"
      ]
     },
     "execution_count": 14,
     "metadata": {},
     "output_type": "execute_result"
    }
   ],
   "source": [
    "us_cases_over_time.count()"
   ]
  },
  {
   "cell_type": "code",
   "execution_count": 15,
   "metadata": {
    "id": "YabmUfFY2MjM"
   },
   "outputs": [],
   "source": [
    "state_names = {\n",
    "        'AK': 'Alaska',\n",
    "        'AL': 'Alabama',\n",
    "        'AR': 'Arkansas',\n",
    "        'AS': 'American Samoa',\n",
    "        'AZ': 'Arizona',\n",
    "        'CA': 'California',\n",
    "        'CO': 'Colorado',\n",
    "        'CT': 'Connecticut',\n",
    "        'DC': 'District of Columbia',\n",
    "        'DE': 'Delaware',\n",
    "        'FL': 'Florida',\n",
    "        'GA': 'Georgia',\n",
    "        'GU': 'Guam',\n",
    "        'HI': 'Hawaii',\n",
    "        'IA': 'Iowa',\n",
    "        'ID': 'Idaho',\n",
    "        'IL': 'Illinois',\n",
    "        'IN': 'Indiana',\n",
    "        'KS': 'Kansas',\n",
    "        'KY': 'Kentucky',\n",
    "        'LA': 'Louisiana',\n",
    "        'MA': 'Massachusetts',\n",
    "        'MD': 'Maryland',\n",
    "        'ME': 'Maine',\n",
    "        'MI': 'Michigan',\n",
    "        'MN': 'Minnesota',\n",
    "        'MO': 'Missouri',\n",
    "        'MP': 'Northern Mariana Islands',\n",
    "        'MS': 'Mississippi',\n",
    "        'MT': 'Montana',\n",
    "        'NA': 'National',\n",
    "        'NC': 'North Carolina',\n",
    "        'ND': 'North Dakota',\n",
    "        'NE': 'Nebraska',\n",
    "        'NH': 'New Hampshire',\n",
    "        'NJ': 'New Jersey',\n",
    "        'NM': 'New Mexico',\n",
    "        'NV': 'Nevada',\n",
    "        'NY': 'New York',\n",
    "        'NYC': 'New York',\n",
    "        'FSM': 'Federated States of Micronesia',\n",
    "        'RMI': 'Republic of the Marshall Islands',\n",
    "        'OH': 'Ohio',\n",
    "        'OK': 'Oklahoma',\n",
    "        'OR': 'Oregon',\n",
    "        'PA': 'Pennsylvania',\n",
    "        'PR': 'Puerto Rico',\n",
    "        'RI': 'Rhode Island',\n",
    "        'SC': 'South Carolina',\n",
    "        'SD': 'South Dakota',\n",
    "        'TN': 'Tennessee',\n",
    "        'TX': 'Texas',\n",
    "        'UT': 'Utah',\n",
    "        'VA': 'Virginia',\n",
    "        'VI': 'Virgin Islands',\n",
    "        'VT': 'Vermont',\n",
    "        'WA': 'Washington',\n",
    "        'WI': 'Wisconsin',\n",
    "        'WV': 'West Virginia',\n",
    "        'WY': 'Wyoming'\n",
    "}"
   ]
  },
  {
   "cell_type": "markdown",
   "metadata": {
    "id": "Pvz6FT8jpIxo"
   },
   "source": [
    "**Converting state codes to state names:**"
   ]
  },
  {
   "cell_type": "code",
   "execution_count": 16,
   "metadata": {
    "id": "UyUBUlZC2XZk"
   },
   "outputs": [],
   "source": [
    "def convert_to_state_names(state_code):\n",
    "  if state_code is not None:\n",
    "    if state_code in state_names:\n",
    "      return state_names[state_code]\n",
    "    else:\n",
    "      return None\n",
    "  else: return None"
   ]
  },
  {
   "cell_type": "code",
   "execution_count": 17,
   "metadata": {
    "id": "8Y7aU2z12g1G"
   },
   "outputs": [],
   "source": [
    "from pyspark.sql.functions import udf,col\n",
    "udf_star_desc = udf(lambda x:convert_to_state_names(x))"
   ]
  },
  {
   "cell_type": "code",
   "execution_count": 18,
   "metadata": {
    "id": "-nF9CrOo6bkb"
   },
   "outputs": [],
   "source": [
    "us_cases_over_time = us_cases_over_time.withColumn(\"STNAME\",udf_star_desc(col(\"state\")))"
   ]
  },
  {
   "cell_type": "code",
   "execution_count": 19,
   "metadata": {
    "id": "xB52TtRe7TYH"
   },
   "outputs": [],
   "source": [
    "us_census_data = spark.read.csv('us-census-data.csv', header=True)"
   ]
  },
  {
   "cell_type": "markdown",
   "metadata": {
    "id": "oFMGXpHZpTt7"
   },
   "source": [
    "**Extracting  the state name and the estimated population of 2019 from census data.**"
   ]
  },
  {
   "cell_type": "code",
   "execution_count": 20,
   "metadata": {
    "id": "vijpw25P799e"
   },
   "outputs": [],
   "source": [
    "df_us_census_data_state_pop = us_census_data.select('STNAME', 'POPESTIMATE2019')\n"
   ]
  },
  {
   "cell_type": "code",
   "execution_count": 21,
   "metadata": {
    "colab": {
     "base_uri": "https://localhost:8080/"
    },
    "id": "D4v0f3YOiNml",
    "outputId": "2c07b799-e0d7-4b87-c67a-62ab05fa3566"
   },
   "outputs": [
    {
     "name": "stdout",
     "output_type": "stream",
     "text": [
      "+-------+---------------+\n",
      "| STNAME|POPESTIMATE2019|\n",
      "+-------+---------------+\n",
      "|Alabama|        4903185|\n",
      "|Alabama|          55869|\n",
      "|Alabama|         223234|\n",
      "|Alabama|          24686|\n",
      "|Alabama|          22394|\n",
      "|Alabama|          57826|\n",
      "|Alabama|          10101|\n",
      "|Alabama|          19448|\n",
      "|Alabama|         113605|\n",
      "|Alabama|          33254|\n",
      "|Alabama|          26196|\n",
      "|Alabama|          44428|\n",
      "|Alabama|          12589|\n",
      "|Alabama|          23622|\n",
      "|Alabama|          13235|\n",
      "|Alabama|          14910|\n",
      "|Alabama|          52342|\n",
      "|Alabama|          55241|\n",
      "|Alabama|          12067|\n",
      "|Alabama|          10663|\n",
      "+-------+---------------+\n",
      "only showing top 20 rows\n",
      "\n"
     ]
    }
   ],
   "source": [
    "df_us_census_data_state_pop.show()"
   ]
  },
  {
   "cell_type": "markdown",
   "metadata": {
    "id": "brUyw2MCplyv"
   },
   "source": [
    "**Joining census data with us_cases_over_time:**"
   ]
  },
  {
   "cell_type": "code",
   "execution_count": 22,
   "metadata": {
    "id": "IkMCTYZUiPZo"
   },
   "outputs": [],
   "source": [
    "df_census_cases = us_cases_over_time.join(df_us_census_data_state_pop,\"STNAME\",\"left\")"
   ]
  },
  {
   "cell_type": "markdown",
   "metadata": {
    "id": "JsglM5yXtWJ_"
   },
   "source": [
    "**Compute and list the Deaths Rate per 100000 due to COVID-19 population for each state.**\n",
    "\n",
    "**This is calculated as:**\n",
    "\n",
    "(Total deaths due to COVID-19 in the state / Total estimated Population of the state)*100000 "
   ]
  },
  {
   "cell_type": "code",
   "execution_count": 23,
   "metadata": {
    "colab": {
     "base_uri": "https://localhost:8080/"
    },
    "id": "0fvmJXUWrO1e",
    "outputId": "11b2a059-e56d-4857-b85c-0f8329a25fe8"
   },
   "outputs": [
    {
     "name": "stdout",
     "output_type": "stream",
     "text": [
      "+--------------+-----------------------------+\n",
      "|        STNAME|positive_case_rate_per_100000|\n",
      "+--------------+-----------------------------+\n",
      "|       Georgia|            381748.1414685934|\n",
      "|      Oklahoma|            294422.1125645021|\n",
      "|     Tennessee|           266188.37706200127|\n",
      "|      Illinois|           251690.25093465275|\n",
      "|      Kentucky|           247775.99787836548|\n",
      "|      Virginia|            218625.3370612082|\n",
      "|     Wisconsin|            193227.3036510837|\n",
      "|   Mississippi|           193107.73228253785|\n",
      "|North Carolina|           174311.53286564414|\n",
      "|          Ohio|           167274.41645570705|\n",
      "|      Michigan|            147899.0287574345|\n",
      "|       Alabama|            144927.4163689984|\n",
      "|       Montana|           125345.85845510328|\n",
      "|      Colorado|            117970.2968291327|\n",
      "|         Idaho|            107173.3494708653|\n",
      "|    New Jersey|            96276.85005839144|\n",
      "|          Utah|             82609.6407253031|\n",
      "|      New York|            67153.93033319619|\n",
      "|       Wyoming|           51658.461455754266|\n",
      "|       Arizona|            43052.16451458828|\n",
      "+--------------+-----------------------------+\n",
      "only showing top 20 rows\n",
      "\n"
     ]
    }
   ],
   "source": [
    "positive_case_rate_per_100000 = df_census_cases.groupBy(\"STNAME\")\\\n",
    "                               .agg((F.sum(\"tot_cases\")/F.sum(\"POPESTIMATE2019\")*100000)\\\n",
    "                               .alias(\"positive_case_rate_per_100000\"))\\\n",
    "                               .sort(desc(\"positive_case_rate_per_100000\")).show()"
   ]
  },
  {
   "cell_type": "markdown",
   "metadata": {
    "id": "Kyt7YVg1t7LA"
   },
   "source": [
    "**Get the number of deaths due to COVID-19 as identified in each state in the last 7 days of the reporting period.**\n",
    "\n"
   ]
  },
  {
   "cell_type": "code",
   "execution_count": 24,
   "metadata": {
    "colab": {
     "base_uri": "https://localhost:8080/"
    },
    "id": "TkLiRhbKt8TG",
    "outputId": "72811143-0e4e-4407-ecf2-7cae209a61b0"
   },
   "outputs": [
    {
     "name": "stdout",
     "output_type": "stream",
     "text": [
      "+--------------+------------+---------------+\n",
      "|        STNAME|total_deaths|submission_date|\n",
      "+--------------+------------+---------------+\n",
      "|       Georgia| 5.8483024E8|          24960|\n",
      "|      Virginia|2.45283918E8|          20904|\n",
      "|      Kentucky|1.12668666E8|          18876|\n",
      "|North Carolina|2.20309482E8|          18180|\n",
      "|      Illinois|5.36619597E8|          16068|\n",
      "|     Tennessee|1.91887392E8|          14976|\n",
      "|   Mississippi|1.33573145E8|          14691|\n",
      "+--------------+------------+---------------+\n",
      "only showing top 7 rows\n",
      "\n"
     ]
    }
   ],
   "source": [
    "number_of_deaths = df_census_cases.groupBy(\"STNAME\")\\\n",
    "                           .agg(F.sum(\"tot_death\").alias(\"total_deaths\"), F.count(\"submission_date\").alias(\"submission_date\"))\\\n",
    "                           .sort(desc(\"submission_date\"))\\\n",
    "                           .show(7)"
   ]
  },
  {
   "cell_type": "markdown",
   "metadata": {
    "id": "HObzWj3KqmKt"
   },
   "source": [
    "**Reading the state wise breakup of allocation of Pfizer vaccine,  Moderna vaccine, Jenssen vaccine.**"
   ]
  },
  {
   "cell_type": "code",
   "execution_count": 25,
   "metadata": {
    "id": "gwqqxFXkt_7C"
   },
   "outputs": [],
   "source": [
    "vaccines_janssen = spark.read.csv('vaccines_janssen.csv', header=True)"
   ]
  },
  {
   "cell_type": "code",
   "execution_count": 26,
   "metadata": {
    "id": "wCONxgbCuKDS"
   },
   "outputs": [],
   "source": [
    "vaccines_moderna = spark.read.csv('vaccines_moderna.csv', header=True)"
   ]
  },
  {
   "cell_type": "code",
   "execution_count": 27,
   "metadata": {
    "id": "qjFizoVluNGc"
   },
   "outputs": [],
   "source": [
    "vaccines_pfizer = spark.read.csv('vaccines_pfizer.csv', header=True)"
   ]
  },
  {
   "cell_type": "code",
   "execution_count": 28,
   "metadata": {
    "colab": {
     "base_uri": "https://localhost:8080/"
    },
    "id": "PjcrFitVuO7U",
    "outputId": "14135748-d454-4bb6-d4a1-f88221128c00"
   },
   "outputs": [
    {
     "name": "stdout",
     "output_type": "stream",
     "text": [
      "+--------------+-------------------+--------------------+--------------------+\n",
      "|Jurisdiction  |Week of Allocations|1st Dose Allocations|2nd Dose Allocations|\n",
      "+--------------+-------------------+--------------------+--------------------+\n",
      "|California    |05/17/2021         |575640              |575640              |\n",
      "|Arizona       |04/05/2021         |93600               |93600               |\n",
      "|Michigan      |03/29/2021         |166140              |166140              |\n",
      "|Vermont       |03/22/2021         |9360                |9360                |\n",
      "|Minnesota     |03/08/2021         |67860               |67860               |\n",
      "|Oregon        |01/25/2021         |26325               |26325               |\n",
      "|Oregon        |01/04/2021         |25350               |25350               |\n",
      "|Maryland      |04/05/2021         |81900               |81900               |\n",
      "|Nebraska      |04/05/2021         |25740               |25740               |\n",
      "|Virginia      |03/22/2021         |114660              |114660              |\n",
      "|New York      |03/01/2021         |128700              |128700              |\n",
      "|California    |02/08/2021         |241800              |241800              |\n",
      "|Kansas        |04/12/2021         |39780               |39780               |\n",
      "|Minnesota     |01/11/2021         |33150               |33150               |\n",
      "|South Carolina|04/05/2021         |67860               |67860               |\n",
      "|Chicago       |02/08/2021         |17550               |17550               |\n",
      "|Guam          |01/18/2021         |0                   |0                   |\n",
      "|New Mexico    |05/17/2021         |31590               |31590               |\n",
      "|South Carolina|03/29/2021         |83070               |83070               |\n",
      "|Wisconsin     |03/01/2021         |66690               |66690               |\n",
      "+--------------+-------------------+--------------------+--------------------+\n",
      "only showing top 20 rows\n",
      "\n"
     ]
    }
   ],
   "source": [
    "total_vaccine_allocation = vaccines_pfizer.union(vaccines_moderna).unionByName(vaccines_janssen, allowMissingColumns=True).distinct()\n",
    "  \n",
    "# Print the result of the union()\n",
    "total_vaccine_allocation.show(truncate=False)"
   ]
  },
  {
   "cell_type": "markdown",
   "metadata": {
    "id": "OOcciwLjqdJr"
   },
   "source": [
    "**Total number of vaccines allocated – State-wise breakup:**"
   ]
  },
  {
   "cell_type": "code",
   "execution_count": 29,
   "metadata": {
    "id": "ENSxH7mtuhIJ"
   },
   "outputs": [],
   "source": [
    "total_vaccine_with_census = total_vaccine_allocation.join(df_census_cases,total_vaccine_allocation.Jurisdiction ==  df_census_cases.STNAME,\"right\")\n"
   ]
  },
  {
   "cell_type": "code",
   "execution_count": 30,
   "metadata": {
    "colab": {
     "base_uri": "https://localhost:8080/"
    },
    "id": "bjbuEToIuwXo",
    "outputId": "6d2f7a6b-d36d-434c-9cc4-21324b2aa992"
   },
   "outputs": [
    {
     "name": "stdout",
     "output_type": "stream",
     "text": [
      "+------------+-------------------+--------------------+--------------------+--------+---------------+-----+---------+----------+----------+--------+---------+---------+----------+----------+---------+----------+----------+-------------+--------------+---------------+\n",
      "|Jurisdiction|Week of Allocations|1st Dose Allocations|2nd Dose Allocations|  STNAME|submission_date|state|tot_cases|conf_cases|prob_cases|new_case|pnew_case|tot_death|conf_death|prob_death|new_death|pnew_death|created_at|consent_cases|consent_deaths|POPESTIMATE2019|\n",
      "+------------+-------------------+--------------------+--------------------+--------+---------------+-----+---------+----------+----------+--------+---------+---------+----------+----------+---------+----------+----------+-------------+--------------+---------------+\n",
      "|    Kentucky|         05/10/2021|                7800|                null|Kentucky|           null|   KY|    25147|     23882|      1265|     607|       61|      684|       680|         4|        7|         0|      null|        Agree|         Agree|          26734|\n",
      "|    Kentucky|         03/01/2021|               36500|                null|Kentucky|           null|   KY|    25147|     23882|      1265|     607|       61|      684|       680|         4|        7|         0|      null|        Agree|         Agree|          26734|\n",
      "|    Kentucky|         04/05/2021|               65300|                null|Kentucky|           null|   KY|    25147|     23882|      1265|     607|       61|      684|       680|         4|        7|         0|      null|        Agree|         Agree|          26734|\n",
      "|    Kentucky|         03/29/2021|               25700|                null|Kentucky|           null|   KY|    25147|     23882|      1265|     607|       61|      684|       680|         4|        7|         0|      null|        Agree|         Agree|          26734|\n",
      "|    Kentucky|         03/15/2021|                5100|                null|Kentucky|           null|   KY|    25147|     23882|      1265|     607|       61|      684|       680|         4|        7|         0|      null|        Agree|         Agree|          26734|\n",
      "|    Kentucky|         04/12/2021|                7800|                null|Kentucky|           null|   KY|    25147|     23882|      1265|     607|       61|      684|       680|         4|        7|         0|      null|        Agree|         Agree|          26734|\n",
      "|    Kentucky|         05/03/2021|               10100|                null|Kentucky|           null|   KY|    25147|     23882|      1265|     607|       61|      684|       680|         4|        7|         0|      null|        Agree|         Agree|          26734|\n",
      "|    Kentucky|         03/22/2021|                5100|                null|Kentucky|           null|   KY|    25147|     23882|      1265|     607|       61|      684|       680|         4|        7|         0|      null|        Agree|         Agree|          26734|\n",
      "|    Kentucky|         05/17/2021|               49960|               49960|Kentucky|           null|   KY|    25147|     23882|      1265|     607|       61|      684|       680|         4|        7|         0|      null|        Agree|         Agree|          26734|\n",
      "|    Kentucky|         01/25/2021|               27900|               27900|Kentucky|           null|   KY|    25147|     23882|      1265|     607|       61|      684|       680|         4|        7|         0|      null|        Agree|         Agree|          26734|\n",
      "|    Kentucky|         01/18/2021|               27900|               27900|Kentucky|           null|   KY|    25147|     23882|      1265|     607|       61|      684|       680|         4|        7|         0|      null|        Agree|         Agree|          26734|\n",
      "|    Kentucky|         02/22/2021|               43400|               43400|Kentucky|           null|   KY|    25147|     23882|      1265|     607|       61|      684|       680|         4|        7|         0|      null|        Agree|         Agree|          26734|\n",
      "|    Kentucky|         04/12/2021|               45300|               45300|Kentucky|           null|   KY|    25147|     23882|      1265|     607|       61|      684|       680|         4|        7|         0|      null|        Agree|         Agree|          26734|\n",
      "|    Kentucky|         04/26/2021|               48900|               48900|Kentucky|           null|   KY|    25147|     23882|      1265|     607|       61|      684|       680|         4|        7|         0|      null|        Agree|         Agree|          26734|\n",
      "|    Kentucky|         05/10/2021|               50000|               50000|Kentucky|           null|   KY|    25147|     23882|      1265|     607|       61|      684|       680|         4|        7|         0|      null|        Agree|         Agree|          26734|\n",
      "|    Kentucky|         12/28/2020|               26500|               26500|Kentucky|           null|   KY|    25147|     23882|      1265|     607|       61|      684|       680|         4|        7|         0|      null|        Agree|         Agree|          26734|\n",
      "|    Kentucky|         12/21/2020|               76700|               76700|Kentucky|           null|   KY|    25147|     23882|      1265|     607|       61|      684|       680|         4|        7|         0|      null|        Agree|         Agree|          26734|\n",
      "|    Kentucky|         03/15/2021|               43400|               43400|Kentucky|           null|   KY|    25147|     23882|      1265|     607|       61|      684|       680|         4|        7|         0|      null|        Agree|         Agree|          26734|\n",
      "|    Kentucky|         02/15/2021|               43400|               43400|Kentucky|           null|   KY|    25147|     23882|      1265|     607|       61|      684|       680|         4|        7|         0|      null|        Agree|         Agree|          26734|\n",
      "|    Kentucky|         03/22/2021|               43400|               43400|Kentucky|           null|   KY|    25147|     23882|      1265|     607|       61|      684|       680|         4|        7|         0|      null|        Agree|         Agree|          26734|\n",
      "+------------+-------------------+--------------------+--------------------+--------+---------------+-----+---------+----------+----------+--------+---------+---------+----------+----------+---------+----------+----------+-------------+--------------+---------------+\n",
      "only showing top 20 rows\n",
      "\n"
     ]
    }
   ],
   "source": [
    "total_vaccine_with_census.show()"
   ]
  },
  {
   "cell_type": "markdown",
   "metadata": {
    "id": "pPkZU9IUq5N9"
   },
   "source": [
    "**Ratio of the population covered with vaccinations in each state based on the**\n",
    "**allocation and population figures from the census data.**"
   ]
  },
  {
   "cell_type": "code",
   "execution_count": 31,
   "metadata": {
    "colab": {
     "base_uri": "https://localhost:8080/"
    },
    "id": "jDnHMacNvPoG",
    "outputId": "880cfc63-094c-406c-85ed-bc2227383cd9"
   },
   "outputs": [
    {
     "name": "stdout",
     "output_type": "stream",
     "text": [
      "+--------------+--------------------------------------+\n",
      "|  Jurisdiction|populatio_ratio_covered_by_vaccination|\n",
      "+--------------+--------------------------------------+\n",
      "|       Georgia|                    135.35544714907272|\n",
      "|      Virginia|                    118.45788502162398|\n",
      "|      Kentucky|                    107.68303218962043|\n",
      "|North Carolina|                     87.24431441559845|\n",
      "|     Tennessee|                     83.58558857951003|\n",
      "|          Ohio|                     79.13208693214109|\n",
      "|      Michigan|                     75.12579443540002|\n",
      "|   Mississippi|                     73.36066944862905|\n",
      "|      Illinois|                     73.07515345670866|\n",
      "|      Oklahoma|                      67.6839183018507|\n",
      "|     Wisconsin|                     65.33046825823041|\n",
      "|       Alabama|                     60.26794943702458|\n",
      "|      Colorado|                     55.64216483197859|\n",
      "|       Montana|                     51.51512835131019|\n",
      "|         Idaho|                     36.74091106166541|\n",
      "|      New York|                     32.77774192019612|\n",
      "|        Oregon|                      32.7378903238288|\n",
      "|          Utah|                    23.149322204776585|\n",
      "|       Wyoming|                    22.294155937491105|\n",
      "|    New Jersey|                     19.70324036395325|\n",
      "+--------------+--------------------------------------+\n",
      "only showing top 20 rows\n",
      "\n"
     ]
    }
   ],
   "source": [
    "populatio_ratio_of_vaccination_per_state = total_vaccine_with_census.groupBy(\"Jurisdiction\")\\\n",
    "                               .agg((((F.sum(\"1st Dose Allocations\")+F.sum(\"2nd Dose Allocations\"))/F.sum(\"POPESTIMATE2019\"))*100)\\\n",
    "                               .alias(\"populatio_ratio_covered_by_vaccination\"))\\\n",
    "                               .sort(desc(\"populatio_ratio_covered_by_vaccination\")).show()"
   ]
  },
  {
   "cell_type": "markdown",
   "metadata": {
    "id": "nDWkma5srBpb"
   },
   "source": [
    "**Proportion of population that is so far not yet covered i.e. without access to**\n",
    "**vaccines as on date.**"
   ]
  },
  {
   "cell_type": "code",
   "execution_count": 32,
   "metadata": {
    "colab": {
     "base_uri": "https://localhost:8080/"
    },
    "id": "WdOcyPPNvi1z",
    "outputId": "9b3e13d3-0bd9-47dd-9ec8-e86fb9e624e5"
   },
   "outputs": [
    {
     "name": "stdout",
     "output_type": "stream",
     "text": [
      "+-------------+------------------------------------------+\n",
      "| Jurisdiction|populatio_ratio_not_covered_by_vaccination|\n",
      "+-------------+------------------------------------------+\n",
      "|     Delaware|                         96.34129318691996|\n",
      "|  Connecticut|                         91.71435091168479|\n",
      "|      Arizona|                         86.45595847688283|\n",
      "|Massachusetts|                         86.31162441114341|\n",
      "|        Maine|                         84.06119564810335|\n",
      "|   New Jersey|                         80.29675963604676|\n",
      "|      Wyoming|                         77.70584406250889|\n",
      "|         Utah|                          76.8506777952234|\n",
      "|       Oregon|                          67.2621096761712|\n",
      "|     New York|                         67.22225807980388|\n",
      "|        Idaho|                         63.25908893833459|\n",
      "|      Montana|                         48.48487164868981|\n",
      "|     Colorado|                         44.35783516802141|\n",
      "|      Alabama|                        39.732050562975424|\n",
      "|    Wisconsin|                        34.669531741769596|\n",
      "|     Oklahoma|                        32.316081698149304|\n",
      "|     Illinois|                         26.92484654329134|\n",
      "|  Mississippi|                        26.639330551370943|\n",
      "|     Michigan|                         24.87420556459997|\n",
      "|         Ohio|                        20.867913067858897|\n",
      "+-------------+------------------------------------------+\n",
      "only showing top 20 rows\n",
      "\n"
     ]
    }
   ],
   "source": [
    "populatio_ratio_of_vaccination_per_state = total_vaccine_with_census.groupBy(\"Jurisdiction\")\\\n",
    "                               .agg((((F.sum(\"POPESTIMATE2019\")-(F.sum(\"1st Dose Allocations\")+F.sum(\"2nd Dose Allocations\")))/F.sum(\"POPESTIMATE2019\"))*100)\\\n",
    "                               .alias(\"populatio_ratio_not_covered_by_vaccination\"))\\\n",
    "                               .sort(desc(\"populatio_ratio_not_covered_by_vaccination\")).show()"
   ]
  },
  {
   "cell_type": "code",
   "execution_count": 32,
   "metadata": {
    "id": "DveW8UOTvrXD"
   },
   "outputs": [],
   "source": []
  }
 ],
 "metadata": {
  "colab": {
   "collapsed_sections": [],
   "name": "COVID19-analysis-pyspark.ipynb",
   "provenance": []
  },
  "kernelspec": {
   "display_name": "Python 3",
   "name": "python3"
  },
  "language_info": {
   "name": "python"
  }
 },
 "nbformat": 4,
 "nbformat_minor": 0
}
